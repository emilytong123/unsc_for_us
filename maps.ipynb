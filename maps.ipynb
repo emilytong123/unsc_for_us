{
 "cells": [
  {
   "cell_type": "code",
   "execution_count": 88,
   "metadata": {},
   "outputs": [],
   "source": [
    "import leafmap.leafmap as leafmap"
   ]
  },
  {
   "cell_type": "code",
   "execution_count": 89,
   "metadata": {},
   "outputs": [],
   "source": [
    "import geocoder\n",
    "import pandas as pd"
   ]
  },
  {
   "cell_type": "code",
   "execution_count": 90,
   "metadata": {},
   "outputs": [],
   "source": [
    "src_data = {\n",
    "    \"Meeting\": [1, 2],\n",
    "    \"In Favor\": [[\"USA\", \"France\", \"UK\"], [\"USA\", \"China\", \"Russian Federation\"]],\n",
    "    \"Against\": [[\"China\", \"Russian Federation\"], [\"UK\", \"France\"]]\n",
    "}\n",
    "df = pd.DataFrame(src_data)\n",
    "\n"
   ]
  },
  {
   "cell_type": "code",
   "execution_count": 91,
   "metadata": {},
   "outputs": [],
   "source": [
    "df = pd.melt(df, id_vars=\"Meeting\", value_vars=[\"In Favor\", \"Against\"], var_name=\"Vote\", value_name=\"Country\").explode(\"Country\").reset_index()"
   ]
  },
  {
   "cell_type": "code",
   "execution_count": 16,
   "metadata": {},
   "outputs": [
    {
     "data": {
      "text/html": [
       "<div>\n",
       "<style scoped>\n",
       "    .dataframe tbody tr th:only-of-type {\n",
       "        vertical-align: middle;\n",
       "    }\n",
       "\n",
       "    .dataframe tbody tr th {\n",
       "        vertical-align: top;\n",
       "    }\n",
       "\n",
       "    .dataframe thead th {\n",
       "        text-align: right;\n",
       "    }\n",
       "</style>\n",
       "<table border=\"1\" class=\"dataframe\">\n",
       "  <thead>\n",
       "    <tr style=\"text-align: right;\">\n",
       "      <th></th>\n",
       "      <th>index</th>\n",
       "      <th>Meeting</th>\n",
       "      <th>Vote</th>\n",
       "      <th>Country</th>\n",
       "    </tr>\n",
       "  </thead>\n",
       "  <tbody>\n",
       "    <tr>\n",
       "      <th>0</th>\n",
       "      <td>0</td>\n",
       "      <td>1</td>\n",
       "      <td>In Favor</td>\n",
       "      <td>USA</td>\n",
       "    </tr>\n",
       "    <tr>\n",
       "      <th>1</th>\n",
       "      <td>0</td>\n",
       "      <td>1</td>\n",
       "      <td>In Favor</td>\n",
       "      <td>France</td>\n",
       "    </tr>\n",
       "    <tr>\n",
       "      <th>2</th>\n",
       "      <td>0</td>\n",
       "      <td>1</td>\n",
       "      <td>In Favor</td>\n",
       "      <td>UK</td>\n",
       "    </tr>\n",
       "    <tr>\n",
       "      <th>3</th>\n",
       "      <td>1</td>\n",
       "      <td>2</td>\n",
       "      <td>In Favor</td>\n",
       "      <td>USA</td>\n",
       "    </tr>\n",
       "    <tr>\n",
       "      <th>4</th>\n",
       "      <td>1</td>\n",
       "      <td>2</td>\n",
       "      <td>In Favor</td>\n",
       "      <td>China</td>\n",
       "    </tr>\n",
       "    <tr>\n",
       "      <th>5</th>\n",
       "      <td>1</td>\n",
       "      <td>2</td>\n",
       "      <td>In Favor</td>\n",
       "      <td>Russian Federation</td>\n",
       "    </tr>\n",
       "    <tr>\n",
       "      <th>6</th>\n",
       "      <td>2</td>\n",
       "      <td>1</td>\n",
       "      <td>Against</td>\n",
       "      <td>China</td>\n",
       "    </tr>\n",
       "    <tr>\n",
       "      <th>7</th>\n",
       "      <td>2</td>\n",
       "      <td>1</td>\n",
       "      <td>Against</td>\n",
       "      <td>Russian Federation</td>\n",
       "    </tr>\n",
       "    <tr>\n",
       "      <th>8</th>\n",
       "      <td>3</td>\n",
       "      <td>2</td>\n",
       "      <td>Against</td>\n",
       "      <td>UK</td>\n",
       "    </tr>\n",
       "    <tr>\n",
       "      <th>9</th>\n",
       "      <td>3</td>\n",
       "      <td>2</td>\n",
       "      <td>Against</td>\n",
       "      <td>France</td>\n",
       "    </tr>\n",
       "  </tbody>\n",
       "</table>\n",
       "</div>"
      ],
      "text/plain": [
       "   index  Meeting      Vote             Country\n",
       "0      0        1  In Favor                 USA\n",
       "1      0        1  In Favor              France\n",
       "2      0        1  In Favor                  UK\n",
       "3      1        2  In Favor                 USA\n",
       "4      1        2  In Favor               China\n",
       "5      1        2  In Favor  Russian Federation\n",
       "6      2        1   Against               China\n",
       "7      2        1   Against  Russian Federation\n",
       "8      3        2   Against                  UK\n",
       "9      3        2   Against              France"
      ]
     },
     "execution_count": 16,
     "metadata": {},
     "output_type": "execute_result"
    }
   ],
   "source": []
  },
  {
   "cell_type": "code",
   "execution_count": 92,
   "metadata": {},
   "outputs": [],
   "source": [
    "perms = [\"USA\", \"France\", \"UK\", \"China\", \"Russian Federation\"]\n",
    "locs = {}\n",
    "for perm in perms:\n",
    "    if perm not in locs:\n",
    "        osm = geocoder.osm(perm)\n",
    "        locs[perm] = {\"lng\": osm.lng, \"lat\": osm.lat, \"geojson\": osm.geojson}\n"
   ]
  },
  {
   "cell_type": "code",
   "execution_count": 94,
   "metadata": {},
   "outputs": [],
   "source": [
    "df[\"lat\"] = df.apply(lambda r: locs[r[\"Country\"]][\"lat\"], axis = 1)\n",
    "df[\"lng\"] = df.apply(lambda r: locs[r[\"Country\"]][\"lng\"], axis = 1)\n",
    "\n"
   ]
  },
  {
   "cell_type": "code",
   "execution_count": 97,
   "metadata": {},
   "outputs": [
    {
     "data": {
      "text/plain": [
       "[1, 2]"
      ]
     },
     "execution_count": 97,
     "metadata": {},
     "output_type": "execute_result"
    }
   ],
   "source": [
    "meetings = list(set(df[\"Meeting\"].values))\n",
    "meetings.sort()"
   ]
  },
  {
   "cell_type": "code",
   "execution_count": 120,
   "metadata": {},
   "outputs": [
    {
     "data": {
      "application/vnd.jupyter.widget-view+json": {
       "model_id": "d059ba316eb44f99b29ac08dd25c97ed",
       "version_major": 2,
       "version_minor": 0
      },
      "text/plain": [
       "Dropdown(description='Meeting:', options=(1, 2), value=1)"
      ]
     },
     "metadata": {},
     "output_type": "display_data"
    },
    {
     "data": {
      "application/vnd.jupyter.widget-view+json": {
       "model_id": "2529e62ed03e4e318ba683f3446f445f",
       "version_major": 2,
       "version_minor": 0
      },
      "text/plain": [
       "Map(center=[20, 0], controls=(AttributionControl(options=['position', 'prefix'], position='bottomright'), Meas…"
      ]
     },
     "execution_count": 120,
     "metadata": {},
     "output_type": "execute_result"
    }
   ],
   "source": [
    "import ipywidgets as widgets\n",
    "\n",
    "m = leafmap.Map(height=500, draw_control = False, measurement_conrol = False, zoom_control = False, fullscreen_control = False)\n",
    "base_layer = m.layers[0]\n",
    "\n",
    "def show_map(m, meeting, df):\n",
    "    for l in m.layers:\n",
    "        if l != base_layer:\n",
    "            m.remove_layer(l)\n",
    "    m.add_circle_markers_from_xy(df[(df[\"Meeting\"] == meeting) & (df[\"Vote\"] == \"In Favor\")], x=\"lng\", y=\"lat\", color= \"green\", fill_color=\"lightgreen\")\n",
    "    m.add_circle_markers_from_xy(df[(df[\"Meeting\"] == meeting) & (df[\"Vote\"] != \"In Favor\")], x=\"lng\", y=\"lat\", color= \"red\", fill_color=\"orange\")\n",
    "    return m\n",
    "\n",
    "meeting_choices = widgets.Dropdown(\n",
    "    options=meetings,\n",
    "    description='Meeting:',\n",
    "    disabled=False,\n",
    ")\n",
    "\n",
    "def display_meeting(change):\n",
    "    if change[\"type\"] == \"change\" and change[\"name\"] == \"value\":\n",
    "        show_map(m, meeting_choices.value, df)\n",
    "\n",
    "\n",
    "meeting_choices.observe(display_meeting)\n",
    "display(meeting_choices)\n",
    "show_map(m, meeting_choices.value, df)\n"
   ]
  }
 ],
 "metadata": {
  "kernelspec": {
   "display_name": "Python 3 (ipykernel)",
   "language": "python",
   "name": "python3"
  },
  "language_info": {
   "codemirror_mode": {
    "name": "ipython",
    "version": 3
   },
   "file_extension": ".py",
   "mimetype": "text/x-python",
   "name": "python",
   "nbconvert_exporter": "python",
   "pygments_lexer": "ipython3",
   "version": "3.10.8"
  },
  "vscode": {
   "interpreter": {
    "hash": "78ea868d46a516d3aef26debbe26cba04d8133b534a267b8a9a4f67b5a160b8d"
   }
  }
 },
 "nbformat": 4,
 "nbformat_minor": 4
}
