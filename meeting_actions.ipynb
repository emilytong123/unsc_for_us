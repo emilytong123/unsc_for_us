{
 "cells": [
  {
   "cell_type": "code",
   "execution_count": null,
   "id": "0be3e4e1-ff24-4e3e-bc53-6fedd1cdcc99",
   "metadata": {},
   "outputs": [],
   "source": [
    "## initial data capture"
   ]
  },
  {
   "cell_type": "code",
   "execution_count": 1,
   "id": "776180c9-60a5-417e-9443-53ba444208f4",
   "metadata": {},
   "outputs": [],
   "source": [
    "# from bs4 import BeautifulSoup\n",
    "# import requests\n",
    "# import pandas as pd"
   ]
  },
  {
   "cell_type": "code",
   "execution_count": 2,
   "id": "5ff8103c-e714-424a-b3ac-6b7459047494",
   "metadata": {},
   "outputs": [],
   "source": [
    "# dates = []\n",
    "# topics = []\n",
    "# results = []\n",
    "# years = []\n",
    "\n",
    "# for year in range(2000, 2020):\n",
    "#     url_base = \"https://research.un.org/en/docs/sc/quick/meetings/\"\n",
    "#     #year = 2018\n",
    "#     year_str = str(year)\n",
    "#     year_url = url_base + year_str\n",
    "\n",
    "#     page = requests.get(year_url)\n",
    "#     #soup = BeautifulSoup(page.content, \"html.parser\")\n",
    "#     soup = BeautifulSoup(page.content, \"lxml\")\n",
    "    \n",
    "\n",
    "#     table = soup.find_all(\"table\", class_ = \"tablefont\")\n",
    "#     #table = div.find_all(\"table\", class=\"tablefont\")\n",
    "#     if (len(table) == 1):\n",
    "#         tds = table[0].find_all(\"td\")\n",
    "#         for i, td in enumerate(tds):\n",
    "#             if i % 5 == 0:\n",
    "#                 years.append(year)\n",
    "#             elif i % 5 == 1:\n",
    "#                 dates.append(td.text)\n",
    "#             elif i % 5 == 3:\n",
    "#                 topics.append(td.text)\n",
    "#             elif i % 5 == 4:\n",
    "#                 results.append(td.text)\n",
    "#     else:\n",
    "#         print(\"year\", year, \"didn't have a table\")\n",
    "\n",
    "# print(len(dates), len(topics), len(results))\n",
    "        \n",
    "    \n",
    "    "
   ]
  },
  {
   "cell_type": "code",
   "execution_count": 3,
   "id": "fcd1ad98-b617-4aeb-8759-89f54e87f276",
   "metadata": {},
   "outputs": [],
   "source": [
    "# df = pd.DataFrame({\"year\": years, \"date\": dates, \"topics\": topics, \"result\": results})\n",
    "# df.to_excel(\"unsc_2000_2019.xlsx\", index = False)"
   ]
  },
  {
   "cell_type": "code",
   "execution_count": 24,
   "id": "fedfe679-514d-46b9-998d-6fef6418068e",
   "metadata": {},
   "outputs": [],
   "source": [
    "## clean data"
   ]
  },
  {
   "cell_type": "code",
   "execution_count": 1,
   "id": "cc4460d8-6601-4c1a-92ad-587a8c4c5581",
   "metadata": {},
   "outputs": [],
   "source": [
    "import regex as re\n",
    "import pandas as pd\n",
    "from pandas.api.types import CategoricalDtype\n",
    "\n",
    "import matplotlib.pyplot as plt\n",
    "import plotly.express as px\n",
    "import seaborn as sns\n",
    "from IPython.display import display\n",
    "import ipywidgets as widgets\n",
    "\n",
    "from datetime import datetime\n",
    "import dateutil.parser"
   ]
  },
  {
   "cell_type": "code",
   "execution_count": 2,
   "id": "fc77bdae-3f64-49b4-b108-b47404aa7014",
   "metadata": {},
   "outputs": [],
   "source": [
    "# data cleaning\n",
    "df = pd.read_excel(\"sample_2000_2019.xlsx\")\n",
    "df[\"result\"] = df[\"result\"].str.replace(\"\\n\", \"\")\n",
    "df[\"result\"] = df[\"result\"].str.replace(\"\\t\", \"\")\n",
    "\n",
    "#strip all str cols of leading and trailing whitespace just in case\n",
    "for col in [\"date\", \"topics\", \"result\"]: \n",
    "    df[col] = df[col].str.strip()\n",
    "    \n",
    "#df.head(5)"
   ]
  },
  {
   "cell_type": "code",
   "execution_count": 3,
   "id": "6f34b04b-e797-48f6-95a6-bb4864b25cff",
   "metadata": {},
   "outputs": [],
   "source": [
    "#datetime.strptime(\"2000 22 December\", \"%Y %d %B\").strftime(\"%Y-%m-%d\")"
   ]
  },
  {
   "cell_type": "code",
   "execution_count": 4,
   "id": "d410c83a-6c08-46ca-b4f4-4122e4266eda",
   "metadata": {},
   "outputs": [],
   "source": [
    "def format_date(row):\n",
    "    str_year = str(row[\"year\"])\n",
    "    str_day_month = row[\"date\"]\n",
    "    try: \n",
    "        to_return = datetime.strptime(str_year + \" \" + str_day_month, \"%Y %d %B\").strftime(\"%Y-%m-%d\")\n",
    "    except:\n",
    "        #print(\"other_format\", str_day_month)\n",
    "        to_return = dateutil.parser.parse(str_year + \" \" + str_day_month)\n",
    "        \n",
    "    return to_return"
   ]
  },
  {
   "cell_type": "code",
   "execution_count": 5,
   "id": "f27aa533-63d8-4958-b688-ddf96599ed2c",
   "metadata": {},
   "outputs": [],
   "source": [
    "#get a Date column that is a datetime\n",
    "df[\"Date\"] = df.apply(lambda r: format_date(r), axis = 1)\n",
    "df[\"Date_dt\"] = pd.to_datetime(df[\"Date\"])\n",
    "df[\"month\"] = df[\"Date_dt\"].dt.month\n",
    "df[\"month/year\"] = df[\"month\"].astype(str) + \"/\" + df[\"year\"].astype(str)\n",
    "ordinal = CategoricalDtype(categories = df.sort_values(\"Date_dt\")[\"month/year\"].unique().tolist(), ordered = True)\n",
    "df[\"Month/Year\"] = df[\"month/year\"].astype(ordinal)"
   ]
  },
  {
   "cell_type": "code",
   "execution_count": 6,
   "id": "6a4891b2-7d24-4017-ab5e-5d4371b76a9d",
   "metadata": {},
   "outputs": [],
   "source": [
    "def extract_vote_result(raw_result):\n",
    "    \"\"\"pass in a string from the result column for one row\"\"\"\n",
    "    if re.search(\"[0-9]-[0-9]-[0-9]\", raw_result): \n",
    "        str_str_str = re.search(\"[0-9]+-[0-9]+-[0-9]+\", raw_result).group()\n",
    "        str_list = str_str_str.split(\"-\")\n",
    "        num_fav, num_abs, num_aga = int(str_list[0]), int(str_list[1]), int(str_list[2])\n",
    "        return (num_fav, num_abs, num_aga)\n",
    "    else:\n",
    "        None"
   ]
  },
  {
   "cell_type": "code",
   "execution_count": 7,
   "id": "00eb6590-5c00-4bec-aaf3-14b232c6f7f8",
   "metadata": {},
   "outputs": [],
   "source": [
    "def categorize_result(raw_result):\n",
    "    if extract_vote_result(raw_result) is not None:\n",
    "        action_type = \"Resolution: Voted\"\n",
    "    elif \"RES\" in raw_result:\n",
    "        action_type = \"Resolution: No Vote\"\n",
    "    elif \"Election\" in raw_result:\n",
    "        action_type = \"Election\"\n",
    "    elif raw_result == \"--\":\n",
    "        action_type = \"Discussion\"\n",
    "    elif \"PRST\" in raw_result:\n",
    "        action_type = \"Press Release\"\n",
    "    else:\n",
    "        action_type = \"Note/Letter/Other\"\n",
    "    return action_type"
   ]
  },
  {
   "cell_type": "code",
   "execution_count": 8,
   "id": "82e5e357-29d9-4155-9518-18e3ea02e4cb",
   "metadata": {},
   "outputs": [],
   "source": [
    "df[\"Action Type\"] = df.apply(lambda r: categorize_result(r[\"result\"]), axis = 1)\n",
    "#df.head()"
   ]
  },
  {
   "cell_type": "code",
   "execution_count": 9,
   "id": "bfc87662-ef41-4495-82dd-cb0fb6549ac9",
   "metadata": {},
   "outputs": [],
   "source": [
    "#df[\"Action Type\"].value_counts()"
   ]
  },
  {
   "cell_type": "code",
   "execution_count": 10,
   "id": "9692f4af-ad83-47f7-891d-c6219d3a933d",
   "metadata": {},
   "outputs": [],
   "source": [
    "#res_vote = df[df[\"Action Type\"] == \"Resolution: Voted\"]\n",
    "#res_vote[\"Voting Result\"] = res_vote.apply(lambda r: extract_vote_result(r[\"result\"]), axis = 1)\n",
    "#res_vote.head()"
   ]
  },
  {
   "cell_type": "code",
   "execution_count": 11,
   "id": "26e390cb-c931-4cfd-81b6-164436091e9c",
   "metadata": {},
   "outputs": [],
   "source": [
    "df[\"Voting Result\"] = df.apply(lambda r: extract_vote_result(r[\"result\"]), axis = 1)"
   ]
  },
  {
   "cell_type": "code",
   "execution_count": 12,
   "id": "54248cee-4049-4dac-adae-abdd7090a228",
   "metadata": {},
   "outputs": [],
   "source": [
    "def confirm_vote_result(row):\n",
    "    if row[\"Action Type\"] == \"Resolution: Voted\": \n",
    "        bool_not = \"not adopted\" in row[\"result\"]\n",
    "        bool_veto = \"veto\" in row[\"result\"]\n",
    "\n",
    "        num_fav = row[\"Voting Result\"][0]\n",
    "        if (num_fav < 9) and bool_not:\n",
    "            return \"Lack Majority\"\n",
    "        elif (num_fav >= 9) and bool_veto:\n",
    "            return \"Vetoed\"\n",
    "        elif (num_fav >=9) and bool_not:\n",
    "            return \"?\"\n",
    "        elif num_fav >=9 and (bool_not == False and bool_veto == False):\n",
    "            return \"Adopted\"\n",
    "        else:\n",
    "            return \"?\"\n",
    "    \n",
    "df[\"Confirm Vote Result\"] = df.apply(lambda r: confirm_vote_result(r), axis = 1)\n",
    "#|df[\"Confirm Vote Result\"].value_counts()"
   ]
  },
  {
   "cell_type": "code",
   "execution_count": 13,
   "id": "18f4c4bb-158a-49cc-aead-3f24d64d46b1",
   "metadata": {},
   "outputs": [],
   "source": [
    "def find_date_range(df, as_str = False):\n",
    "    \"\"\"takes in a subsetted dataframe on one topic\"\"\"\n",
    "    if as_str == True: \n",
    "        return (str(df[\"Date_dt\"].dt.date.min()), str(df[\"Date_dt\"].dt.date.max()))\n",
    "    else: \n",
    "        return (df[\"Date_dt\"].dt.date.min(), df[\"Date_dt\"].dt.date.max())"
   ]
  },
  {
   "cell_type": "code",
   "execution_count": 14,
   "id": "0d3b1b1e-b381-44b5-a9b4-66d524fc3eb3",
   "metadata": {},
   "outputs": [],
   "source": [
    "topic_to_daterange = {}\n",
    "list_of_topics = df[\"topics\"].unique().tolist()\n",
    "for topic in list_of_topics:\n",
    "    subset_topic = df[df[\"topics\"] == topic]\n",
    "    topic_to_daterange[topic] = find_date_range(subset_topic)\n",
    "    \n",
    "df[\"Topic Date Range\"] = df[\"topics\"].map(topic_to_daterange)"
   ]
  },
  {
   "cell_type": "code",
   "execution_count": 15,
   "id": "f0779d40-5bbe-426a-946e-061c4a135d9d",
   "metadata": {},
   "outputs": [],
   "source": [
    "#df.drop(columns = [\"date\", \"Date\", \"month/year\"], inplace = True)\n",
    "#df"
   ]
  },
  {
   "cell_type": "code",
   "execution_count": 16,
   "id": "e9460279-1cc0-4c30-bae2-d5b0b9eed976",
   "metadata": {},
   "outputs": [],
   "source": [
    "#df.to_excel(\"Clean_Meeting_2000_2019.xlsx\", index = False)"
   ]
  },
  {
   "cell_type": "code",
   "execution_count": 17,
   "id": "6058dffc-ff37-4583-bc38-a7b1dbe1af28",
   "metadata": {},
   "outputs": [],
   "source": [
    "#interactive widget/line graphs"
   ]
  },
  {
   "cell_type": "code",
   "execution_count": 18,
   "id": "56cedae7-c8cc-4d93-b78a-b8a1f8cdb611",
   "metadata": {},
   "outputs": [],
   "source": [
    "#widget_width = \"350px\"\n",
    "padding = \"0px 0px 0px 4px\"\n",
    "action_types = [\"All Meetings\"] + df[\"Action Type\"].unique().tolist()\n",
    "#action_types"
   ]
  },
  {
   "cell_type": "code",
   "execution_count": 19,
   "id": "95077a9c-b9c8-4181-ab6f-97973d5ebb94",
   "metadata": {},
   "outputs": [],
   "source": [
    "def generate_line_graph(my_df, my_tuple, filter_param = \"Action Type\"):\n",
    "    \"\"\"takes tuple from selectmultiple dropdown's interact value for an ACTION TYPE or TOPIC.\n",
    "    filter_param: 'Action Type' or 'topics' \"\n",
    "    \"\"\"    \n",
    "    \n",
    "    if \"All Meetings\" not in my_tuple:\n",
    "        my_df = my_df[my_df[filter_param].isin(list(my_tuple))]\n",
    "        \n",
    "    to_graph = my_df.groupby([\"Month/Year\", \"Action Type\"]).agg(\"count\")\n",
    "\n",
    "    to_graph = to_graph.reset_index()\n",
    "    to_graph = to_graph.rename(columns = {\"result\": \"Meetings in Month\"})\n",
    "        \n",
    "    fig = px.bar(to_graph, x = \"Month/Year\", y = \"Meetings in Month\",\n",
    "                  color = \"Action Type\", title = \"Number of Meetings Producing [Action Type]\")\n",
    "    #fig.update_layout(yaxis = {\"range\": [min(to_graph[\"Meetings in Month\"].values), max(to_graph[\"Meetings in Month\"].values) + 2]})\n",
    "\n",
    "    fig.show()"
   ]
  },
  {
   "cell_type": "markdown",
   "id": "fa9836ea-3a89-4743-9c4d-f19b827094d1",
   "metadata": {},
   "source": [
    "## Is passing a resolution as easy as pie?\n",
    "\n",
    "Between 2000 and 2019,\n",
    "\n",
    "There are no topics where there is only disagreement:\n",
    ">- No topics where resolution(s) were brought to the table but none were ever passed on the subject matter\n",
    "\n",
    "Also: There are no topics where there is only agreement: \n",
    ">- No topics where the UNSC has always adopted every resolution on the subject matter\n",
    "\n",
    "The topics that were voted on all have disagreements and agreements over different resolutions concerning the subject matter.\n",
    "\n",
    "__TLDR__: There is __agreement and disagreement__ over resolution topics"
   ]
  },
  {
   "cell_type": "code",
   "execution_count": null,
   "id": "48db64ab-9d7c-4da9-a8f9-599dab9a93cf",
   "metadata": {},
   "outputs": [],
   "source": [
    "to_pie = pd.DataFrame(df[\"Action Type\"].value_counts()).reset_index()\n",
    "to_pie.rename(columns = {\"index\": \"Action Taken at Meeting\", \"Action Type\": \"# of Meetings\"}, inplace = True)\n",
    "\n",
    "to_pie2 = pd.DataFrame(df[\"Confirm Vote Result\"].value_counts()).reset_index()\n",
    "to_pie2.rename(columns = {\"index\":\"Voting Result\", \"Confirm Vote Result\":\"# of Occurences\"}, inplace = True)\n",
    "\n",
    "pie_fig = px.pie(to_pie, values = \"# of Meetings\", names = \"Action Taken at Meeting\", title = \"Percent of Meetings Resulting in...\")\n",
    "pie_fig\n",
    "\n",
    "pie_fig2 = px.pie(to_pie2, values = \"# of Occurences\", names = \"Voting Result\", title = \"For the Meetings that Vote on Resolutions, what happens?\")\n",
    "pie_fig2"
   ]
  },
  {
   "cell_type": "code",
   "execution_count": 20,
   "id": "dd1ee551-1c86-419f-ad39-bedfe293feaf",
   "metadata": {},
   "outputs": [
    {
     "data": {
      "application/vnd.jupyter.widget-view+json": {
       "model_id": "81234866846a49638ad8ab075011f673",
       "version_major": 2,
       "version_minor": 0
      },
      "text/plain": [
       "VBox(children=(HBox(children=(SelectMultiple(description='UNSC Action Over Time:', index=(0,), layout=Layout(p…"
      ]
     },
     "execution_count": 20,
     "metadata": {},
     "output_type": "execute_result"
    }
   ],
   "source": [
    "actiont_dropdown = widgets.SelectMultiple(\n",
    "    options = action_types,\n",
    "    value = [\"All Meetings\"],\n",
    "    description = \"UNSC Action Over Time:\",\n",
    "    layout = widgets.Layout(width = \"350px\", padding = padding),\n",
    "    style = {\"description_width\": \"initial\"}\n",
    ")\n",
    "\n",
    "actiont_output = widgets.Output()\n",
    "\n",
    "actiont_viz = widgets.Button(\n",
    "    description = \"Visualize\",\n",
    "    disabled = False,\n",
    "    icon = \"chart-area\",\n",
    "    button_style = \"success\",\n",
    "    layout = widgets.Layout(width = \"90px\", height = \"50px\", padding = padding),\n",
    "    style = {\"description_width\": \"initial\"}\n",
    ")\n",
    "\n",
    "def generate_lines(look):\n",
    "    with actiont_output:\n",
    "        actiont_output.clear_output()\n",
    "        generate_line_graph(df, actiont_dropdown.get_interact_value(), \"Action Type\")\n",
    "        \n",
    "        \n",
    "        #pt 2\n",
    "        \n",
    "        action_type_selected = actiont_dropdown.get_interact_value()\n",
    "\n",
    "        if \"All Meetings\" not in action_type_selected: \n",
    "            df_for_next = df[df[\"Action Type\"].isin(list(action_type_selected))]\n",
    "        else:\n",
    "            df_for_next = df.copy()\n",
    "        \n",
    "        topic_dropdown = widgets.Select(\n",
    "            options = df_for_next[\"topics\"].value_counts().index.tolist()[:10],\n",
    "            value = None,\n",
    "            description = \"Want to Filter Further by Topic?\",\n",
    "            layout = widgets.Layout(width = \"650px\", padding = padding),\n",
    "            style = {\"description_width\": \"initial\"}\n",
    "        )\n",
    "\n",
    "        topic_output = widgets.Output()\n",
    "\n",
    "        topic_viz = widgets.Button(\n",
    "            description = \"Visualize:\",\n",
    "            disabled = False,\n",
    "            icon = \"chart-area\",\n",
    "            button_style = \"success\",\n",
    "            layout = widgets.Layout(width = \"90px\", height = \"50px\", padding = padding),\n",
    "            style = {\"description_width\": \"initial\"}\n",
    "        )\n",
    "\n",
    "        def generate_lines2(look):\n",
    "            with topic_output:\n",
    "                topic_output.clear_output()\n",
    "                generate_line_graph(df_for_next, tuple([topic_dropdown.get_interact_value()]), \"topics\")\n",
    "\n",
    "        topic_viz.on_click(generate_lines2)\n",
    "\n",
    "        topics_w = widgets.VBox([widgets.HBox([topic_dropdown, topic_viz]), topic_output])\n",
    "        display(topics_w)\n",
    "\n",
    "actiont_viz.on_click(generate_lines)\n",
    "\n",
    "actiont_w = widgets.VBox([widgets.HBox([actiont_dropdown, actiont_viz]), actiont_output])\n",
    "actiont_w"
   ]
  },
  {
   "cell_type": "code",
   "execution_count": null,
   "id": "bb9bdfc8-ec86-4471-a519-3f41a353f441",
   "metadata": {},
   "outputs": [],
   "source": []
  },
  {
   "cell_type": "code",
   "execution_count": null,
   "id": "13e58288-3c8e-45e9-b394-d1023fa62abf",
   "metadata": {},
   "outputs": [],
   "source": []
  }
 ],
 "metadata": {
  "kernelspec": {
   "display_name": "Python 3 (ipykernel)",
   "language": "python",
   "name": "python3"
  },
  "language_info": {
   "codemirror_mode": {
    "name": "ipython",
    "version": 3
   },
   "file_extension": ".py",
   "mimetype": "text/x-python",
   "name": "python",
   "nbconvert_exporter": "python",
   "pygments_lexer": "ipython3",
   "version": "3.10.6"
  }
 },
 "nbformat": 4,
 "nbformat_minor": 5
}
